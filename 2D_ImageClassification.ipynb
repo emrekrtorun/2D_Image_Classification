{
  "nbformat": 4,
  "nbformat_minor": 0,
  "metadata": {
    "colab": {
      "name": "2D_ImageClassification.ipynb",
      "provenance": []
    },
    "kernelspec": {
      "name": "python3",
      "display_name": "Python 3"
    },
    "accelerator": "GPU"
  },
  "cells": [
    {
      "cell_type": "code",
      "metadata": {
        "id": "0Mzu0A74WdB7",
        "outputId": "bb2f1a11-59dd-4dfb-8f48-8dabf7617894",
        "colab": {
          "base_uri": "https://localhost:8080/"
        }
      },
      "source": [
        "!apt-get install -y -qq software-properties-common python-software-properties module-init-tools\n",
        "!add-apt-repository -y ppa:alessandro-strada/ppa 2>&1 > /dev/null\n",
        "!apt-get update -qq 2>&1 > /dev/null\n",
        "!apt-get -y install -qq google-drive-ocamlfuse fuse\n",
        "from google.colab import auth\n",
        "auth.authenticate_user()\n",
        "from oauth2client.client import GoogleCredentials\n",
        "creds = GoogleCredentials.get_application_default()\n",
        "import getpass\n",
        "!google-drive-ocamlfuse -headless -id={creds.client_id} -secret={creds.client_secret} < /dev/null 2>&1 | grep URL\n",
        "vcode = getpass.getpass()\n",
        "!echo {vcode} | google-drive-ocamlfuse -headless -id={creds.client_id} -secret={creds.client_secret}"
      ],
      "execution_count": 1,
      "outputs": [
        {
          "output_type": "stream",
          "text": [
            "E: Package 'python-software-properties' has no installation candidate\n",
            "Selecting previously unselected package google-drive-ocamlfuse.\n",
            "(Reading database ... 144786 files and directories currently installed.)\n",
            "Preparing to unpack .../google-drive-ocamlfuse_0.7.23-0ubuntu1~ubuntu18.04.1_amd64.deb ...\n",
            "Unpacking google-drive-ocamlfuse (0.7.23-0ubuntu1~ubuntu18.04.1) ...\n",
            "Setting up google-drive-ocamlfuse (0.7.23-0ubuntu1~ubuntu18.04.1) ...\n",
            "Processing triggers for man-db (2.8.3-2ubuntu0.1) ...\n",
            "Please, open the following URL in a web browser: https://accounts.google.com/o/oauth2/auth?client_id=32555940559.apps.googleusercontent.com&redirect_uri=urn%3Aietf%3Awg%3Aoauth%3A2.0%3Aoob&scope=https%3A%2F%2Fwww.googleapis.com%2Fauth%2Fdrive&response_type=code&access_type=offline&approval_prompt=force\n",
            "··········\n",
            "Please, open the following URL in a web browser: https://accounts.google.com/o/oauth2/auth?client_id=32555940559.apps.googleusercontent.com&redirect_uri=urn%3Aietf%3Awg%3Aoauth%3A2.0%3Aoob&scope=https%3A%2F%2Fwww.googleapis.com%2Fauth%2Fdrive&response_type=code&access_type=offline&approval_prompt=force\n",
            "Please enter the verification code: Access token retrieved correctly.\n"
          ],
          "name": "stdout"
        }
      ]
    },
    {
      "cell_type": "code",
      "metadata": {
        "id": "4IM_626Tebcb"
      },
      "source": [
        "!mkdir -p drive\n",
        "!google-drive-ocamlfuse drive"
      ],
      "execution_count": 2,
      "outputs": []
    },
    {
      "cell_type": "code",
      "metadata": {
        "id": "WMRqNi2Yevx3"
      },
      "source": [
        "import sys\n",
        "sys.path.insert(0, 'drive/2D_Image')"
      ],
      "execution_count": 3,
      "outputs": []
    },
    {
      "cell_type": "code",
      "metadata": {
        "id": "a5CnruDte5vz"
      },
      "source": [
        "!pip install -q keras"
      ],
      "execution_count": 4,
      "outputs": []
    },
    {
      "cell_type": "code",
      "metadata": {
        "id": "EIDDWPb2fEhk",
        "outputId": "3946add9-b5fa-4ce9-d4d6-39786e30804b",
        "colab": {
          "base_uri": "https://localhost:8080/"
        }
      },
      "source": [
        "\n",
        "import keras\n",
        "from keras.models import Sequential\n",
        "from keras.layers import Dense, Activation, Dropout, Flatten, Conv2D, MaxPooling2D\n",
        "from sklearn.metrics import classification_report, confusion_matrix\n",
        "\n",
        "import keras_preprocessing\n",
        "from keras_preprocessing import image\n",
        "from keras_preprocessing.image import ImageDataGenerator\n",
        "\n",
        "\n",
        "\n",
        "import matplotlib.pyplot as plt\n",
        "import numpy as np\n",
        "import pandas as pd\n",
        "\n",
        "\n",
        "\n",
        "\n",
        "TRAINING_DIR = \"drive/2D_Image/Train/\"\n",
        "training_datagen = ImageDataGenerator()\n",
        "\n",
        "VALIDATION_DIR = \"drive/2D_Image/Validation/\"\n",
        "validation_datagen = ImageDataGenerator()\n",
        "\n",
        "train_generator = training_datagen.flow_from_directory(TRAINING_DIR,target_size=(250,250),class_mode='categorical',batch_size=32)\n",
        "\n",
        "validation_generator = validation_datagen.flow_from_directory(VALIDATION_DIR,target_size=(250,250),class_mode='categorical',batch_size=32)\n",
        "\n",
        "\n",
        "model= Sequential()\n",
        "\n",
        "model.add(Conv2D(64, (3,3), activation='relu', input_shape=(250, 250, 3)))\n",
        "model.add(MaxPooling2D(2, 2))\n",
        "model.add(Conv2D(64, (3,3), activation='relu'))\n",
        "model.add(MaxPooling2D(2,2))\n",
        "model.add(Conv2D(128, (3,3), activation='relu'))\n",
        "model.add(MaxPooling2D(2,2))\n",
        "model.add(Conv2D(128, (3,3), activation='relu'))\n",
        "model.add(MaxPooling2D(2,2))\n",
        "model.add(Flatten())\n",
        "model.add(Dropout(0.4))\n",
        "model.add(Dense(512, activation='relu'))\n",
        "model.add(Dense(7, activation='softmax'))\n",
        "\n",
        "model.compile(loss=keras.losses.categorical_crossentropy, optimizer='adam', metrics=[\"accuracy\"])\n",
        "\n",
        "history = model.fit(train_generator, epochs=20, steps_per_epoch=10, validation_data = validation_generator, verbose = 1, validation_steps=3)\n",
        "\n"
      ],
      "execution_count": 8,
      "outputs": [
        {
          "output_type": "stream",
          "text": [
            "Found 392 images belonging to 7 classes.\n",
            "Found 168 images belonging to 7 classes.\n",
            "Epoch 1/20\n",
            "10/10 [==============================] - 253s 25s/step - loss: 13.0161 - accuracy: 0.1419 - val_loss: 1.8859 - val_accuracy: 0.1667\n",
            "Epoch 2/20\n",
            "10/10 [==============================] - 53s 5s/step - loss: 1.8855 - accuracy: 0.2601 - val_loss: 1.8418 - val_accuracy: 0.1562\n",
            "Epoch 3/20\n",
            "10/10 [==============================] - 11s 1s/step - loss: 1.7741 - accuracy: 0.2973 - val_loss: 1.6998 - val_accuracy: 0.3750\n",
            "Epoch 4/20\n",
            "10/10 [==============================] - 4s 445ms/step - loss: 1.5428 - accuracy: 0.3514 - val_loss: 1.3210 - val_accuracy: 0.4688\n",
            "Epoch 5/20\n",
            "10/10 [==============================] - 3s 307ms/step - loss: 1.2313 - accuracy: 0.4875 - val_loss: 1.0618 - val_accuracy: 0.5417\n",
            "Epoch 6/20\n",
            "10/10 [==============================] - 2s 185ms/step - loss: 1.0099 - accuracy: 0.5608 - val_loss: 0.9684 - val_accuracy: 0.4896\n",
            "Epoch 7/20\n",
            "10/10 [==============================] - 2s 185ms/step - loss: 0.8217 - accuracy: 0.6419 - val_loss: 0.7428 - val_accuracy: 0.7604\n",
            "Epoch 8/20\n",
            "10/10 [==============================] - 2s 184ms/step - loss: 0.6701 - accuracy: 0.7297 - val_loss: 0.7308 - val_accuracy: 0.7083\n",
            "Epoch 9/20\n",
            "10/10 [==============================] - 2s 194ms/step - loss: 0.7391 - accuracy: 0.6812 - val_loss: 0.5768 - val_accuracy: 0.8021\n",
            "Epoch 10/20\n",
            "10/10 [==============================] - 2s 187ms/step - loss: 0.6149 - accuracy: 0.7466 - val_loss: 0.3984 - val_accuracy: 0.8542\n",
            "Epoch 11/20\n",
            "10/10 [==============================] - 2s 187ms/step - loss: 0.4526 - accuracy: 0.8480 - val_loss: 0.4493 - val_accuracy: 0.8438\n",
            "Epoch 12/20\n",
            "10/10 [==============================] - 3s 318ms/step - loss: 0.3169 - accuracy: 0.8953 - val_loss: 0.3307 - val_accuracy: 0.8333\n",
            "Epoch 13/20\n",
            "10/10 [==============================] - 2s 187ms/step - loss: 0.4215 - accuracy: 0.8345 - val_loss: 0.3539 - val_accuracy: 0.8542\n",
            "Epoch 14/20\n",
            "10/10 [==============================] - 2s 188ms/step - loss: 0.4518 - accuracy: 0.8412 - val_loss: 0.4034 - val_accuracy: 0.8229\n",
            "Epoch 15/20\n",
            "10/10 [==============================] - 2s 186ms/step - loss: 0.3122 - accuracy: 0.8784 - val_loss: 0.2225 - val_accuracy: 0.9167\n",
            "Epoch 16/20\n",
            "10/10 [==============================] - 2s 187ms/step - loss: 0.2377 - accuracy: 0.9223 - val_loss: 0.3131 - val_accuracy: 0.8750\n",
            "Epoch 17/20\n",
            "10/10 [==============================] - 2s 187ms/step - loss: 0.1783 - accuracy: 0.9426 - val_loss: 0.1905 - val_accuracy: 0.9271\n",
            "Epoch 18/20\n",
            "10/10 [==============================] - 2s 191ms/step - loss: 0.2187 - accuracy: 0.9223 - val_loss: 0.2055 - val_accuracy: 0.9479\n",
            "Epoch 19/20\n",
            "10/10 [==============================] - 2s 193ms/step - loss: 0.1902 - accuracy: 0.9358 - val_loss: 0.2054 - val_accuracy: 0.9167\n",
            "Epoch 20/20\n",
            "10/10 [==============================] - 2s 193ms/step - loss: 0.1842 - accuracy: 0.9324 - val_loss: 0.2816 - val_accuracy: 0.8854\n"
          ],
          "name": "stdout"
        }
      ]
    },
    {
      "cell_type": "code",
      "metadata": {
        "id": "efmRh999g5jO",
        "outputId": "0136b528-d5f5-4393-cad8-096ce489e46d",
        "colab": {
          "base_uri": "https://localhost:8080/",
          "height": 298
        }
      },
      "source": [
        "%matplotlib inline\n",
        "\n",
        "acc = history.history['accuracy']\n",
        "val_acc = history.history['val_accuracy']\n",
        "loss = history.history['loss']\n",
        "val_loss = history.history['val_loss']\n",
        "\n",
        "epochs = range(len(acc))\n",
        "\n",
        "plt.plot(epochs, acc, 'r', label='Training accuracy')\n",
        "plt.plot(epochs, val_acc, 'b', label='Validation accuracy')\n",
        "plt.title('Training and validation accuracy')\n",
        "plt.legend(loc=0)\n",
        "plt.figure()\n",
        "\n",
        "plt.show()"
      ],
      "execution_count": 9,
      "outputs": [
        {
          "output_type": "display_data",
          "data": {
            "image/png": "[encoded data removed]",
            "text/plain": [
              "<Figure size 432x288 with 1 Axes>"
            ]
          },
          "metadata": {
            "tags": [],
            "needs_background": "light"
          }
        },
        {
          "output_type": "display_data",
          "data": {
            "text/plain": [
              "<Figure size 432x288 with 0 Axes>"
            ]
          },
          "metadata": {
            "tags": []
          }
        }
      ]
    },
    {
      "cell_type": "code",
      "metadata": {
        "id": "-4azFnSyjmKq",
        "outputId": "3d80313d-7d37-4e46-dad7-74cf232c1ae5",
        "colab": {
          "base_uri": "https://localhost:8080/"
        }
      },
      "source": [
        "TEST_DIR = \"drive/2D_Image/Test/\"\n",
        "test_datagen = ImageDataGenerator()\n",
        "test_generator = test_datagen.flow_from_directory(\n",
        "    directory=TEST_DIR,\n",
        "    target_size=(250, 250),\n",
        "    batch_size=32,\n",
        "    class_mode='categorical',\n",
        "    shuffle=False)\n",
        "\n",
        "\n",
        "Y_pred = model.predict_generator(test_generator)\n",
        "y_pred = np.argmax(Y_pred, axis=1)\n",
        "print('Confusion Matrix')\n",
        "cm = confusion_matrix(test_generator.classes, y_pred)\n",
        "print(cm)\n",
        "\n",
        "\n",
        "print('Classification Report')\n",
        "target_names = ['circle', 'poly3', 'poly5', 'poly7', 'rect', 'star5', 'star8']\n",
        "print(classification_report(test_generator.classes, y_pred, target_names=target_names))\n"
      ],
      "execution_count": 10,
      "outputs": [
        {
          "output_type": "stream",
          "text": [
            "Found 140 images belonging to 7 classes.\n",
            "WARNING:tensorflow:From <ipython-input-10-f05046aabafd>:11: Model.predict_generator (from tensorflow.python.keras.engine.training) is deprecated and will be removed in a future version.\n",
            "Instructions for updating:\n",
            "Please use Model.predict, which supports generators.\n",
            "Confusion Matrix\n",
            "[[17  0  0  0  0  0  0]\n",
            " [ 0 19  0  0  0  1  0]\n",
            " [ 0  0 19  5  0  0  0]\n",
            " [ 4  0  1 18  0  0  0]\n",
            " [ 0  0  0  0 15  0  0]\n",
            " [ 0  0  0  0  0 17  0]\n",
            " [ 0  0  0  0  0  0 24]]\n",
            "Classification Report\n",
            "              precision    recall  f1-score   support\n",
            "\n",
            "      circle       0.81      1.00      0.89        17\n",
            "       poly3       1.00      0.95      0.97        20\n",
            "       poly5       0.95      0.79      0.86        24\n",
            "       poly7       0.78      0.78      0.78        23\n",
            "        rect       1.00      1.00      1.00        15\n",
            "       star5       0.94      1.00      0.97        17\n",
            "       star8       1.00      1.00      1.00        24\n",
            "\n",
            "    accuracy                           0.92       140\n",
            "   macro avg       0.93      0.93      0.93       140\n",
            "weighted avg       0.93      0.92      0.92       140\n",
            "\n"
          ],
          "name": "stdout"
        }
      ]
    },
    {
      "cell_type": "code",
      "metadata": {
        "id": "9H-cnYmyj3Me"
      },
      "source": [
        ""
      ],
      "execution_count": null,
      "outputs": []
    }
  ]
}